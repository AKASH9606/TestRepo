{
 "cells": [
  {
   "cell_type": "markdown",
   "id": "bc30c894",
   "metadata": {},
   "source": [
    "# 1.Manipulate using a list\n",
    "i)to add new elements to the end of the list\n",
    "ii)to reverse elements in the list\n",
    "iii)to display the same list of elements multiple times\n",
    "iv)to sort the elements in the list in ascending order.\n"
   ]
  },
  {
   "cell_type": "code",
   "execution_count": null,
   "id": "e32887f6",
   "metadata": {},
   "outputs": [],
   "source": [
    "my_list = [1, 2, 3, 4, 5]"
   ]
  },
  {
   "cell_type": "code",
   "execution_count": 16,
   "id": "bab0e7c2",
   "metadata": {},
   "outputs": [
    {
     "name": "stdout",
     "output_type": "stream",
     "text": [
      "  list after Adding new elements : [1, 2, 3, 4, 5, 6, 6, 11, 10, 8]\n"
     ]
    }
   ],
   "source": [
    "#i)\n",
    "my_list.append(6)\n",
    "my_list.append(11)\n",
    "my_list.append(10)\n",
    "my_list.append(8)\n",
    "\n",
    "print(\"  list after Adding new elements :\", my_list)\n",
    "\n"
   ]
  },
  {
   "cell_type": "code",
   "execution_count": 17,
   "id": "d7906258",
   "metadata": {},
   "outputs": [
    {
     "name": "stdout",
     "output_type": "stream",
     "text": [
      "list after reversing elements: [8, 10, 11, 6, 6, 5, 4, 3, 2, 1]\n"
     ]
    }
   ],
   "source": [
    "#ii)\n",
    "my_list.reverse()\n",
    "\n",
    "\n",
    "print(\"list after reversing elements:\", my_list)"
   ]
  },
  {
   "cell_type": "code",
   "execution_count": 18,
   "id": "6d2523f3",
   "metadata": {},
   "outputs": [
    {
     "name": "stdout",
     "output_type": "stream",
     "text": [
      "List displayed multiple times: [8, 10, 11, 6, 6, 5, 4, 3, 2, 1, 8, 10, 11, 6, 6, 5, 4, 3, 2, 1, 8, 10, 11, 6, 6, 5, 4, 3, 2, 1]\n"
     ]
    }
   ],
   "source": [
    "result_list = my_list * 3       #select how many times you wish to multiplty the list\n",
    "\n",
    "\n",
    "print(\"List displayed multiple times:\", result_list)"
   ]
  },
  {
   "cell_type": "code",
   "execution_count": 19,
   "id": "6b4a214e",
   "metadata": {},
   "outputs": [
    {
     "name": "stdout",
     "output_type": "stream",
     "text": [
      "Sorted List in ascending order: [1, 2, 3, 4, 5, 6, 6, 8, 10, 11]\n"
     ]
    }
   ],
   "source": [
    "my_list.sort()\n",
    "\n",
    "print(\"Sorted List in ascending order:\", my_list)"
   ]
  },
  {
   "cell_type": "markdown",
   "id": "a5929293",
   "metadata": {},
   "source": [
    "# 2.Write a python program to do in the tuples.\n",
    "i)manipulte using tuples\n",
    "ii)to add new elements to the end of the tuples\n",
    "iii)to reverse elements in the list\n",
    "iv)to display the  elements of the same tuple multiple times\n",
    "v)to concatenate two tuples\n",
    "vi)to sort the elements in the list in ascending order."
   ]
  },
  {
   "cell_type": "code",
   "execution_count": 20,
   "id": "4c71ac4f",
   "metadata": {},
   "outputs": [
    {
     "name": "stdout",
     "output_type": "stream",
     "text": [
      "Manipulated Tuple with new element: (1, 2, 3, 4, 5, 6)\n",
      "tuple after reversing elements: (6, 5, 4, 3, 2, 1)\n",
      "tuple displayed multiple times: (1, 2, 3, 4, 5, 6, 1, 2, 3, 4, 5, 6, 1, 2, 3, 4, 5, 6)\n",
      "Concatenated Tuples: (10, 11, 12, 13, 14, 15)\n",
      "Sorted List in ascending order: [1, 2, 3, 4, 5]\n"
     ]
    }
   ],
   "source": [
    "\n",
    "my_tuple = (1, 2, 3, 4, 5)\n",
    "\n",
    "# i) Manipulate using tuples (tuples are immutable, so you can't change elements directly)\n",
    " \n",
    "\n",
    "# ii)\n",
    "new_element = 6\n",
    "my_tuple = my_tuple + (new_element,)\n",
    "print(\"Manipulated Tuple with new element:\", my_tuple)\n",
    "\n",
    "                      \n",
    "\n",
    "# iii) \n",
    "reversed_tuple = tuple(reversed(my_tuple))\n",
    "print(\"tuple after reversing elements:\", reversed_tuple)\n",
    "\n",
    "# iv) \n",
    "n = 3  # Number of times to display the tuple\n",
    "result_tuple = my_tuple * n\n",
    "print(\"tuple displayed multiple times:\", result_tuple)\n",
    "\n",
    "# v) \n",
    "tuple1 = (10, 11, 12)\n",
    "tuple2 = (13, 14, 15)\n",
    "concatenated_tuple = tuple1 + tuple2\n",
    "print(\"Concatenated Tuples:\", concatenated_tuple)\n",
    "\n",
    "# vi) \n",
    "my_list = [5, 2, 1, 4, 3]\n",
    "sorted_list = sorted(my_list)\n",
    "print(\"Sorted List in ascending order:\", sorted_list)\n",
    "\n"
   ]
  },
  {
   "cell_type": "markdown",
   "id": "bbf07c6c",
   "metadata": {},
   "source": [
    "# 3. Write a python program to implement the following using list.\n",
    "i)Create a list with integers(minimum ten chracters)\n",
    "ii)how to display the lst number in the list\n",
    "iii)command for displying values from the list[0:4]\n",
    "iv)command for displying values from the list[2:]\n",
    "v)command for displying values from the list[:6]"
   ]
  },
  {
   "cell_type": "code",
   "execution_count": 28,
   "id": "8812d123",
   "metadata": {},
   "outputs": [
    {
     "name": "stdout",
     "output_type": "stream",
     "text": [
      "[1, 2, 3, 4, 5, 6, 7, 8, 9, 10]\n",
      "Last number in the list: 10\n",
      "Values from index 0 to 4: [1, 2, 3, 4]\n",
      "Values from index 2 to the end: [3, 4, 5, 6, 7, 8, 9, 10]\n",
      "Values from the beginning up to index 6: [1, 2, 3, 4, 5, 6]\n"
     ]
    }
   ],
   "source": [
    "# i)\n",
    "my_list = [1, 2, 3, 4, 5, 6, 7, 8, 9, 10]\n",
    "print( my_list)\n",
    "\n",
    "# ii) \n",
    "last_number = my_list[-1]\n",
    "print(\"Last number in the list:\", last_number)\n",
    "\n",
    "# iii) \n",
    "values_0_to_4 = my_list[0:4]\n",
    "print(\"Values from index 0 to 4:\", values_0_to_4)\n",
    "\n",
    "# iv) \n",
    "values_from_index_2 = my_list[2:]\n",
    "print(\"Values from index 2 to the end:\", values_from_index_2)\n",
    "\n",
    "# v)\n",
    "values_up_to_index_6 = my_list[:6]\n",
    "print(\"Values from the beginning up to index 6:\", values_up_to_index_6)\n",
    "      \n",
    "  "
   ]
  },
  {
   "cell_type": "markdown",
   "id": "bdd932af",
   "metadata": {},
   "source": [
    "# 4Write a Python program: tuple1 = (10, 50, 20, 40, 30) \n",
    "\n",
    "i) To display the elements 10 to 50 from tuple1 \n",
    "ii) To dispaly the length of a tuple1 \n",
    "iii) To find the minimum element from tuple1 \n",
    "iv) To add all elements in the tuple1\n",
    " v) To display the same tuple1 multiple times"
   ]
  },
  {
   "cell_type": "code",
   "execution_count": 34,
   "id": "9dca255b",
   "metadata": {
    "scrolled": true
   },
   "outputs": [
    {
     "name": "stdout",
     "output_type": "stream",
     "text": [
      "(10, 50)\n",
      "5\n",
      "10\n",
      "150\n",
      "(10, 50, 20, 40, 30, 10, 50, 20, 40, 30, 10, 50, 20, 40, 30)\n"
     ]
    }
   ],
   "source": [
    "\n",
    "tuple1 = (10, 50, 20, 40, 30)\n",
    "tuple1\n",
    "(10, 50, 20, 40, 30)\n",
    "#i) To display the elements 10 to 50 from tuple1\n",
    "\n",
    "print(tuple1[0:2])\n",
    "\n",
    "#ii) To dispaly the length of a tuple1\n",
    "\n",
    "print(len(tuple1))\n",
    "\n",
    "#iii) To find the minimum element from tuple1\n",
    "\n",
    "print(min(tuple1))\n",
    "\n",
    "\n",
    "#iv) To add all elements in the tuple1\n",
    "\n",
    "print(sum(tuple1))\n",
    "\n",
    "#v) To display the same tuple1 multiple times\n",
    "\n",
    "print(tuple1*3)\n",
    "\n"
   ]
  },
  {
   "cell_type": "markdown",
   "id": "9e0874aa",
   "metadata": {},
   "source": [
    "# 5 Write a python program \n",
    "i) To calculate the length of a string \n",
    "ii) To reverse words in a string \n",
    "iii) To display the same string multiplate times \n",
    "iv) To concatenate two strings \n",
    "v) Str1=\"South India\", using string slicing to display \"India\""
   ]
  },
  {
   "cell_type": "code",
   "execution_count": 39,
   "id": "be983209",
   "metadata": {},
   "outputs": [
    {
     "name": "stdout",
     "output_type": "stream",
     "text": [
      "11\n",
      "aidnI htuoS\n",
      "South IndiaSouth IndiaSouth IndiaSouth IndiaSouth India\n",
      "South IndiaIndia\n"
     ]
    },
    {
     "data": {
      "text/plain": [
       "'India'"
      ]
     },
     "execution_count": 39,
     "metadata": {},
     "output_type": "execute_result"
    }
   ],
   "source": [
    "\n",
    "Str1=\"South India\"\n",
    "\n",
    "#i) To calculate the length of a string\n",
    "\n",
    "print(len(Str1))\n",
    "\n",
    "#ii) To reverse words in a string\n",
    "\n",
    "Str1=\"South India\"\n",
    "reversed_Str1=Str1[::-1]\n",
    "print(reversed_Str1)\n",
    "\n",
    "\n",
    "#iii) To display the same string multiplate times\n",
    "\n",
    "print(Str1*5)\n",
    "\n",
    "#iv) To concatenate two strings\n",
    "\n",
    "Str1=\"South India\"\n",
    "Str2=\"India\"\n",
    "res = Str1 + Str2\n",
    "print(res)\n",
    "\n",
    "#v) Str1=\"South India\", using string slicing to display \"India\"\n",
    "\n",
    "Str1=\"South India\"\n",
    "Str1[6:]\n",
    "\n"
   ]
  },
  {
   "cell_type": "markdown",
   "id": "2fc0b1c5",
   "metadata": {},
   "source": [
    "# 6Perform the following : \n",
    "    i) Creating the Directory \n",
    "    ii) Accessing values and keys in the directory \n",
    "    iii) Updating the directory using a function \n",
    "    iv) Clear and delete the directory values"
   ]
  },
  {
   "cell_type": "code",
   "execution_count": 50,
   "id": "61c83b3f",
   "metadata": {},
   "outputs": [
    {
     "name": "stdout",
     "output_type": "stream",
     "text": [
      "{'f_name': 'rohit', 'l_name': 'sharma', 'class': '8', 'city': 'Mumbai'}\n",
      "dict_values(['rohit', 'sharma', '8', 'Mumbai'])\n",
      "dict_keys(['f_name', 'l_name', 'class', 'city'])\n",
      "None\n",
      "{'f_name': 'rohit', 'l_name': 'sharma', 'class': 6, 'city': 'Mumbai'}\n",
      "Mumbai\n"
     ]
    }
   ],
   "source": [
    "\n",
    "#i) Creating the Directory\n",
    "\n",
    "student={'f_name':'rohit','l_name':'sharma','class':'8','city':'Mumbai'}\n",
    "print(student)\n",
    "\n",
    "#ii) Accessing values and keys in the directory\n",
    "\n",
    "print(student.values())\n",
    "print(student.keys())\n",
    "\n",
    "\n",
    "#iii) Updating the directory using a function\n",
    "\n",
    "print(student.update({'class': 6}))\n",
    "print(student)\n",
    "\n",
    "\n",
    "#iv) Clear and delete the directory values\n",
    "\n",
    "print(student.pop('city'))\n",
    "\n"
   ]
  },
  {
   "cell_type": "markdown",
   "id": "42f87735",
   "metadata": {},
   "source": [
    "# 7Python program to insert a number to any position in the list\n"
   ]
  },
  {
   "cell_type": "code",
   "execution_count": 56,
   "id": "9bf51fc6",
   "metadata": {},
   "outputs": [
    {
     "name": "stdout",
     "output_type": "stream",
     "text": [
      "[2, 4, 5, 6, 8, 10]\n"
     ]
    }
   ],
   "source": [
    "list=[2, 4 , 6, 8, 10]\n",
    "list.insert(2,5)\n",
    "print(list)\n"
   ]
  },
  {
   "cell_type": "markdown",
   "id": "a578b60e",
   "metadata": {},
   "source": [
    "# 8Python program to delete an element from a list by index"
   ]
  },
  {
   "cell_type": "code",
   "execution_count": 58,
   "id": "222f050b",
   "metadata": {},
   "outputs": [
    {
     "name": "stdout",
     "output_type": "stream",
     "text": [
      "5\n",
      "[1, 2, 3, 4]\n"
     ]
    }
   ],
   "source": [
    "\n",
    "list=[1, 2, 3, 4, 5]\n",
    "\n",
    "print(list.pop(4))\n",
    "\n",
    "print(list)\n",
    "\n"
   ]
  },
  {
   "cell_type": "markdown",
   "id": "ced5310c",
   "metadata": {},
   "source": [
    "# 9 Write a program to display a number from 1 to 100"
   ]
  },
  {
   "cell_type": "code",
   "execution_count": 59,
   "id": "9cd12696",
   "metadata": {},
   "outputs": [
    {
     "name": "stdout",
     "output_type": "stream",
     "text": [
      "1 2 3 4 5 6 7 8 9 10 11 12 13 14 15 16 17 18 19 20 21 22 23 24 25 26 27 28 29 30 31 32 33 34 35 36 37 38 39 40 41 42 43 44 45 46 47 48 49 50 51 52 53 54 55 56 57 58 59 60 61 62 63 64 65 66 67 68 69 70 71 72 73 74 75 76 77 78 79 80 81 82 83 84 85 86 87 88 89 90 91 92 93 94 95 96 97 98 99 100 "
     ]
    }
   ],
   "source": [
    "\n",
    "for i in range(1,101):\n",
    "    print(i,end=\" \")\n"
   ]
  },
  {
   "cell_type": "markdown",
   "id": "22edeb9e-efa0-49bf-b38f-b414cacfe705",
   "metadata": {},
   "source": [
    "#10WRITE A SIMPLE PYTHON PROGRAM TO WRITE THE SUM OF ALL ITEMS IN A TUPLE"
   ]
  },
  {
   "cell_type": "code",
   "execution_count": 1,
   "id": "251f5032-7c72-462f-b2bc-8c6f274c5248",
   "metadata": {
    "tags": []
   },
   "outputs": [
    {
     "name": "stdout",
     "output_type": "stream",
     "text": [
      "Sum of all items in the tuple: 15\n"
     ]
    }
   ],
   "source": [
    "my_tuple = (1, 2, 3, 4, 5)\n",
    "\n",
    "total_sum = 0\n",
    "\n",
    "for num in my_tuple:\n",
    "    total_sum += num\n",
    "\n",
    "print(\"Sum of all items in the tuple:\", total_sum)"
   ]
  }
 ],
 "metadata": {
  "kernelspec": {
   "display_name": "Python 3 (ipykernel)",
   "language": "python",
   "name": "python3"
  },
  "language_info": {
   "codemirror_mode": {
    "name": "ipython",
    "version": 3
   },
   "file_extension": ".py",
   "mimetype": "text/x-python",
   "name": "python",
   "nbconvert_exporter": "python",
   "pygments_lexer": "ipython3",
   "version": "3.11.4"
  }
 },
 "nbformat": 4,
 "nbformat_minor": 5
}
